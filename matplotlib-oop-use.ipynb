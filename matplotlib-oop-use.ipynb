{
 "cells": [
  {
   "cell_type": "markdown",
   "metadata": {
    "collapsed": true
   },
   "source": [
    "\n",
    "# 面向对象 画图 #\n",
    "\n",
    "| 对象 | 说明 |\n",
    "|----:|:----|\n",
    "| axex | 设置坐标轴边界和表面的颜色、坐标刻度值大小和网格的显示 |\n",
    "| backend | 设置目标暑促TkAgg和GTKAgg |\n",
    "| figure | 控制dpi、边界颜色、图形大小、和子区( subplot)设置 |\n",
    "| font | 字体集（font family）、字体大小和样式设置 |\n",
    "| grid | 设置网格颜色和线性 |\n",
    "| legend | 设置图例和其中的文本的显示 | \n",
    "| line | 设置线条（颜色、线型、宽度等）和标记 |\n",
    "| patch |  是填充2D空间的图形对象，如多边形和圆。控制线宽、颜色和抗锯齿设置等。 |\n",
    "| savefig | 可以对保存的图形进行单独设置。例如，设置渲染的文件的背景为白色。 |\n",
    "| verbose | 设置matplotlib在执行期间信息输出，如silent、helpful、debug和debug-annoying。 |\n",
    "| xticks和yticks |  为x,y轴的主刻度和次刻度设置颜色、大小、方向，以及标签大小。 |"
   ]
  },
  {
   "cell_type": "markdown",
   "metadata": {
    "collapsed": true
   },
   "source": [
    "# Figure #\n",
    "调用figure创建一个绘图对象，并且使它成为当前的绘图对象\n",
    "\n",
    "\n",
    "| Argument | Default | Description |\n",
    "| -------- | --------| ------------|\n",
    "| num | 1 | No of figure |\n",
    "| figsize | figure.figsize | figure size in inches(width,heithg) |\n",
    "| dpi | fignure.dpi | resolution in dots per inch |\n",
    "| facecolor | figure.facecolor | color of drawing background |\n",
    "| edgecolor | figure.edgecolor | color of edge around the drawing background |\n",
    "| frameon | True | draw figure frame or not 窗口框体 |"
   ]
  },
  {
   "cell_type": "markdown",
   "metadata": {},
   "source": [
    "## Subplot ##"
   ]
  }
 ],
 "metadata": {
  "kernelspec": {
   "display_name": "Python 3",
   "language": "python",
   "name": "python3"
  },
  "language_info": {
   "codemirror_mode": {
    "name": "ipython",
    "version": 3
   },
   "file_extension": ".py",
   "mimetype": "text/x-python",
   "name": "python",
   "nbconvert_exporter": "python",
   "pygments_lexer": "ipython3",
   "version": "3.6.1"
  },
  "toc": {
   "colors": {
    "hover_highlight": "#DAA520",
    "navigate_num": "#000000",
    "navigate_text": "#333333",
    "running_highlight": "#FF0000",
    "selected_highlight": "#FFD700",
    "sidebar_border": "#EEEEEE",
    "wrapper_background": "#FFFFFF"
   },
   "moveMenuLeft": true,
   "nav_menu": {
    "height": "12px",
    "width": "252px"
   },
   "navigate_menu": true,
   "number_sections": true,
   "sideBar": true,
   "threshold": 4,
   "toc_cell": false,
   "toc_section_display": "block",
   "toc_window_display": true,
   "widenNotebook": false
  }
 },
 "nbformat": 4,
 "nbformat_minor": 2
}
